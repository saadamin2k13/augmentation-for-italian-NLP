{
  "nbformat": 4,
  "nbformat_minor": 0,
  "metadata": {
    "colab": {
      "provenance": []
    },
    "kernelspec": {
      "name": "python3",
      "display_name": "Python 3"
    },
    "language_info": {
      "name": "python"
    }
  },
  "cells": [
    {
      "cell_type": "code",
      "execution_count": null,
      "metadata": {
        "id": "tF0ShouxJZKz"
      },
      "outputs": [],
      "source": [
        "!wget \"https://pmb.let.rug.nl/releases/exp_data_3.0.0.zip\"\n"
      ]
    },
    {
      "cell_type": "code",
      "source": [
        "!unzip exp_data_3.0.0.zip\n"
      ],
      "metadata": {
        "id": "tAmmeyCWKsew"
      },
      "execution_count": null,
      "outputs": []
    },
    {
      "cell_type": "code",
      "source": [
        "!mv pmb_exp_data_3.0.0 en-data\n"
      ],
      "metadata": {
        "id": "Iyzm6EaPK1iJ"
      },
      "execution_count": null,
      "outputs": []
    },
    {
      "cell_type": "code",
      "source": [
        "!rm exp_data_3.0.0.zip\n"
      ],
      "metadata": {
        "id": "Z6Kh2ZnHK7bj"
      },
      "execution_count": null,
      "outputs": []
    },
    {
      "cell_type": "code",
      "source": [
        "cd en-data\n"
      ],
      "metadata": {
        "colab": {
          "base_uri": "https://localhost:8080/"
        },
        "id": "gdeqka2DLAA1",
        "outputId": "535610b5-733f-4b9c-9c73-0466ae27fd4d"
      },
      "execution_count": null,
      "outputs": [
        {
          "output_type": "stream",
          "name": "stdout",
          "text": [
            "/content/en-data\n"
          ]
        }
      ]
    },
    {
      "cell_type": "code",
      "source": [
        "mkdir gold-silver-raw\n"
      ],
      "metadata": {
        "id": "zR4cjOk_LGOM"
      },
      "execution_count": null,
      "outputs": []
    },
    {
      "cell_type": "code",
      "source": [
        "rm -rf de/ it/ nl/"
      ],
      "metadata": {
        "id": "j_TaEnnMLLn6"
      },
      "execution_count": null,
      "outputs": []
    },
    {
      "cell_type": "code",
      "source": [
        "rm -rf gold-silver-raw"
      ],
      "metadata": {
        "id": "Yj9z8tYnLhYS"
      },
      "execution_count": null,
      "outputs": []
    },
    {
      "cell_type": "code",
      "source": [
        "cd en"
      ],
      "metadata": {
        "colab": {
          "base_uri": "https://localhost:8080/"
        },
        "id": "WuXX4NVbLouz",
        "outputId": "586ab918-4ad2-4c3a-82ec-ea85bdf841c8"
      },
      "execution_count": null,
      "outputs": [
        {
          "output_type": "stream",
          "name": "stdout",
          "text": [
            "/content/en-data/en\n"
          ]
        }
      ]
    },
    {
      "cell_type": "code",
      "source": [
        "rm -rf silver/ bronze/"
      ],
      "metadata": {
        "id": "tPHWdXwoL-G0"
      },
      "execution_count": null,
      "outputs": []
    },
    {
      "cell_type": "code",
      "source": [
        "cd gold/"
      ],
      "metadata": {
        "colab": {
          "base_uri": "https://localhost:8080/"
        },
        "id": "HVtoQOI8MF23",
        "outputId": "c25119c2-6308-418c-eb0d-1a95c2eba883"
      },
      "execution_count": null,
      "outputs": [
        {
          "output_type": "stream",
          "name": "stdout",
          "text": [
            "/content/en-data/en/gold\n"
          ]
        }
      ]
    },
    {
      "cell_type": "code",
      "source": [],
      "metadata": {
        "id": "7JxdKjFCMoMy"
      },
      "execution_count": null,
      "outputs": []
    },
    {
      "cell_type": "code",
      "source": [
        "rm dev.txt dev.txt.raw test.txt test.txt.raw"
      ],
      "metadata": {
        "id": "FudlEY-TMLjD"
      },
      "execution_count": null,
      "outputs": []
    },
    {
      "cell_type": "markdown",
      "source": [
        "Now drag train.txt and train.txt.raw out to ./content"
      ],
      "metadata": {
        "id": "_sZ9hDECMbQI"
      }
    },
    {
      "cell_type": "code",
      "source": [
        "pwd"
      ],
      "metadata": {
        "colab": {
          "base_uri": "https://localhost:8080/",
          "height": 35
        },
        "id": "unogllwwPEzD",
        "outputId": "45273492-0849-4203-86a5-c2766e116412"
      },
      "execution_count": null,
      "outputs": [
        {
          "output_type": "execute_result",
          "data": {
            "text/plain": [
              "'/content/en-data/en/gold'"
            ],
            "application/vnd.google.colaboratory.intrinsic+json": {
              "type": "string"
            }
          },
          "metadata": {},
          "execution_count": 13
        }
      ]
    },
    {
      "cell_type": "code",
      "source": [
        "cd ../../../"
      ],
      "metadata": {
        "colab": {
          "base_uri": "https://localhost:8080/"
        },
        "id": "hEl5PK2JPKpb",
        "outputId": "a66540f7-47c7-46b5-d5dc-4dcb73d21cd4"
      },
      "execution_count": null,
      "outputs": [
        {
          "output_type": "stream",
          "name": "stdout",
          "text": [
            "/content\n"
          ]
        }
      ]
    },
    {
      "cell_type": "markdown",
      "source": [
        "###Making present tense file..."
      ],
      "metadata": {
        "id": "GJ9-HUG0QlvY"
      }
    },
    {
      "cell_type": "code",
      "source": [
        "#input file\n",
        "fin = open(\"sbn.txt\", \"rt\")\n",
        "#output file to write the result to\n",
        "fout = open(\"train1.txt\", \"wt\")\n",
        "#for each line in the input file\n",
        "for line in fin:\n",
        "#read replace the string and write to output file\n",
        "  ####### the line below is used for PMB-3.0.0\n",
        "  #fout.write(line.replace('TPR t1 \"now\"', 'EQU t1 \"now\"'))\n",
        "  ####### the line below is used for PMB-5.0.0\n",
        "  fout.write(line.replace('time.n.08 TPR now', 'time.n.08 EQU now'))\n",
        "#close input and output files\n",
        "fin.close()\n",
        "fout.close()"
      ],
      "metadata": {
        "id": "LMvphhXvMpu0"
      },
      "execution_count": null,
      "outputs": []
    },
    {
      "cell_type": "code",
      "source": [
        "#input file\n",
        "fin = open(\"train1.txt\", \"rt\")\n",
        "#output file to write the result to\n",
        "fout = open(\"sbn-present.txt\", \"wt\")\n",
        "#for each line in the input file\n",
        "for line in fin:\n",
        "#read replace the string and write to output file\n",
        "  ####### the line below is used for PMB-3.0.0\n",
        "  #fout.write(line.replace('TPR \"now\" t1', 'EQU t1 \"now\"'))\n",
        "  ####### the line below is used for PMB-5.0.0\n",
        "  fout.write(line.replace('time.n.08 TSU now', 'time.n.08 EQU now'))\n",
        "\n",
        "#close input and output files\n",
        "fin.close()\n",
        "fout.close()"
      ],
      "metadata": {
        "id": "gqpJqMPwQJrm"
      },
      "execution_count": null,
      "outputs": []
    },
    {
      "cell_type": "code",
      "source": [
        "rm train1.txt"
      ],
      "metadata": {
        "id": "9JCCUtFoQ4sr"
      },
      "execution_count": null,
      "outputs": []
    },
    {
      "cell_type": "markdown",
      "source": [
        "###Making Past Tense"
      ],
      "metadata": {
        "id": "WzB2NLFYQy9w"
      }
    },
    {
      "cell_type": "code",
      "source": [
        "#input file\n",
        "fin = open(\"sbn.txt\", \"rt\")\n",
        "#output file to write the result to\n",
        "fout = open(\"train1.txt\", \"wt\")\n",
        "#for each line in the input file\n",
        "for line in fin:\n",
        "#read replace the string and write to output file\n",
        "\n",
        "  ####### the line below is used for PMB-3.0.0\n",
        "  #fout.write(line.replace('EQU t1 \"now\"', 'TPR t1 \"now\"'))\n",
        "  ####### the line below is used for PMB-5.0.0\n",
        "  fout.write(line.replace('time.n.08 EQU now', 'time.n.08 TPR now'))\n",
        "#close input and output files\n",
        "fin.close()\n",
        "fout.close()"
      ],
      "metadata": {
        "id": "mvqtrl9RQ2hU"
      },
      "execution_count": null,
      "outputs": []
    },
    {
      "cell_type": "code",
      "source": [
        "#input file\n",
        "fin = open(\"train1.txt\", \"rt\")\n",
        "#output file to write the result to\n",
        "fout = open(\"sbn-past.txt\", \"wt\")\n",
        "#for each line in the input file\n",
        "for line in fin:\n",
        "#read replace the string and write to output file\n",
        "\n",
        "  ####### the line below is used for PMB-3.0.0\n",
        "  #fout.write(line.replace('TPR \"now\" t1', 'TPR t1 \"now\"'))\n",
        "  ####### the line below is used for PMB-5.0.0\n",
        "  fout.write(line.replace('time.n.08 TSU now', 'time.n.08 TPR now'))\n",
        "#close input and output files\n",
        "fin.close()\n",
        "fout.close()"
      ],
      "metadata": {
        "id": "pfHMzDGzRdjT"
      },
      "execution_count": null,
      "outputs": []
    },
    {
      "cell_type": "code",
      "source": [
        "rm train1.txt"
      ],
      "metadata": {
        "id": "jyEFAAHaSygU"
      },
      "execution_count": null,
      "outputs": []
    },
    {
      "cell_type": "markdown",
      "source": [
        "###Making Future Tense"
      ],
      "metadata": {
        "id": "DyNvTULLTAeF"
      }
    },
    {
      "cell_type": "code",
      "source": [
        "#input file\n",
        "fin = open(\"sbn.txt\", \"rt\")\n",
        "#output file to write the result to\n",
        "fout = open(\"train1.txt\", \"wt\")\n",
        "#for each line in the input file\n",
        "for line in fin:\n",
        "#read replace the string and write to output file\n",
        "\n",
        "  ####### the line below is used for PMB-3.0.0\n",
        "  #fout.write(line.replace('EQU t1 \"now\"', 'TPR \"now\" t1'))\n",
        "  ####### the line below is used for PMB-5.0.0\n",
        "  fout.write(line.replace('time.n.08 EQU now', 'time.n.08 TSU now'))\n",
        "#close input and output files\n",
        "fin.close()\n",
        "fout.close()"
      ],
      "metadata": {
        "id": "KEa5AYO8S1D7"
      },
      "execution_count": null,
      "outputs": []
    },
    {
      "cell_type": "code",
      "source": [
        "#input file\n",
        "fin = open(\"train1.txt\", \"rt\")\n",
        "#output file to write the result to\n",
        "fout = open(\"sbn-future.txt\", \"wt\")\n",
        "#for each line in the input file\n",
        "for line in fin:\n",
        "#read replace the string and write to output file\n",
        "\n",
        "  ####### the line below is used for PMB-3.0.0\n",
        "  #fout.write(line.replace('TPR t1 \"now\"', 'TPR \"now\" t1'))\n",
        "  ####### the line below is used for PMB-5.0.0\n",
        "  fout.write(line.replace('time.n.08 TPR now', 'time.n.08 TSU now'))\n",
        "#close input and output files\n",
        "fin.close()\n",
        "fout.close()"
      ],
      "metadata": {
        "id": "l2FnX2-HTH_a"
      },
      "execution_count": null,
      "outputs": []
    },
    {
      "cell_type": "code",
      "source": [
        "rm train1.txt"
      ],
      "metadata": {
        "id": "x9MAp4zNTKYK"
      },
      "execution_count": null,
      "outputs": []
    }
  ]
}